{
 "cells": [
  {
   "cell_type": "markdown",
   "id": "c5428ab5-0c90-4161-a8e4-9c60409fd29c",
   "metadata": {
    "tags": []
   },
   "source": [
    "## PYTHON COLLECTION: DICTIONARIES"
   ]
  },
  {
   "cell_type": "markdown",
   "id": "14c5d24d-a3a8-466b-b04c-94edc8c76686",
   "metadata": {},
   "source": [
    "___\n",
    "**DICT COMPREHENSION**  \n",
    "\n",
    "Dict comprehension is a syntactic construct for creating a dictionary based on existing disctionaries. It follows the form of the mathematical set-builder notation (set comprehension) as distinct from the use of map and filter functions."
   ]
  },
  {
   "cell_type": "code",
   "execution_count": 1,
   "id": "615abd70-77ef-46e7-8c99-0dad84a0a63c",
   "metadata": {},
   "outputs": [
    {
     "data": {
      "text/plain": [
       "{'a': 3, 'n': 2, 'b': 1, 's': 1}"
      ]
     },
     "execution_count": 1,
     "metadata": {},
     "output_type": "execute_result"
    }
   ],
   "source": [
    "# This block of code contains an explanation on lambda functions to get a dictionary ordered by values.\n",
    "# For extrict dict comprehension, go to last line.\n",
    "\n",
    "d = {'b': 1, 'a': 3, 'n': 2, 's': 1}\n",
    "\n",
    "'''\n",
    "We sort dic using sorted() and a lambda function to define how to sort the iterable (dic.items())\n",
    "\n",
    "dic.items() returns [('b', 1), ('a', 3), ('n', 2), ('s', 1)], this is the iterable we want to sort ---> sorted(d.items())\n",
    "\n",
    "The sorted() method, can use a second argument (optional, default is None): key, a function to decide the order\n",
    "In this case we use a lambda function that is written \"lambda argument : expression\" ---> sorted(d.items(), key = lambda argument : expression)\n",
    "\n",
    "From every tuple of the dictionary \"key:value\" lambda will get the [1] position, this is \"value\" ---> sorted(d.items(), key = lambda d_tuple : d_tuple[1])\n",
    "Example : the dict tuple with index [2] is ('n', 2), so lambda will return 2; sorted() will consider 2 for its purpose.\n",
    "\n",
    "Finally we add the sorted() parameter \"reverse = True\" to order the result from higher to lower.\n",
    "'''\n",
    "\n",
    "ordered = sorted(d.items(), key = lambda d_tuple : d_tuple[1], reverse = True)\n",
    "\n",
    "'''\n",
    "As sorted is a list method, using dict comprehension we get the final dictionary ordered\n",
    "'''\n",
    "\n",
    "# This last line is actually dict comprehension.\n",
    "{k: v for k, v in ordered}"
   ]
  },
  {
   "cell_type": "markdown",
   "id": "f42d25be-eb2d-4771-b617-76ec675c8926",
   "metadata": {},
   "source": [
    "## PYTHON COLLECTION: CONVERSION BETWEEN TYPES"
   ]
  },
  {
   "cell_type": "markdown",
   "id": "03041721-fc9c-4709-bf2b-3fc3e5289160",
   "metadata": {},
   "source": [
    "**FROM LIST TO**"
   ]
  },
  {
   "cell_type": "code",
   "execution_count": 75,
   "id": "ce53fd96-b5d5-42e5-be68-b98afdb9c7f2",
   "metadata": {},
   "outputs": [
    {
     "name": "stdout",
     "output_type": "stream",
     "text": [
      "List to tuple: (1, 2, 3, 4, 3) \n",
      "\n",
      "List to set: {1, 2, 3, 4}\n"
     ]
    }
   ],
   "source": [
    "list_1 = [1,2,3,4,3]\n",
    "\n",
    "print('List to tuple:', tuple(list_1),'\\n')\n",
    "\n",
    "print('List to set:', set(list_1))               # Sets can't contain duplicated values"
   ]
  },
  {
   "cell_type": "markdown",
   "id": "7ca313db-67a9-4bdd-a3d4-f9f5b5c10cf4",
   "metadata": {},
   "source": [
    "___\n",
    "**FROM TUPLE TO**"
   ]
  },
  {
   "cell_type": "code",
   "execution_count": 104,
   "id": "3cf54514-69e2-49ff-b44f-65892dee8bc6",
   "metadata": {},
   "outputs": [
    {
     "name": "stdout",
     "output_type": "stream",
     "text": [
      "Tuple to list: [1, 2, 3, 4, 3] \n",
      "\n",
      "Tuple to set: {1, 2, 3, 4} \n",
      "\n",
      "Tuple to dict (NO duplicated values): {1: 4} \n",
      "\n",
      "Tuple to dict (with duplicated values): {1: [2], 3: [4, 5]}\n"
     ]
    }
   ],
   "source": [
    "tuple_1 = (1,2,3,4,3)\n",
    "\n",
    "print('Tuple to list:', list(tuple_1),'\\n')\n",
    "\n",
    "print('Tuple to set:', set(tuple_1),'\\n')         # Sets can't contain duplicated values\n",
    "\n",
    "# This conversion is possible from tuple of lists or tuple of tuple\n",
    "\n",
    "tuple_1 = ((1,2),(1,4))\n",
    "\n",
    "print('Tuple to dict (NO duplicated values):', dict(tuple_1),'\\n')\n",
    "\n",
    "tuple_1 = ([1,2],[3,4],[3,5])\n",
    "\n",
    "# First you have to create an empty dictionary\n",
    "dic = {}\n",
    "\n",
    "# With a for loop you unpack the lists of the tuple\n",
    "for k,v in tuple_1:\n",
    "    '''\n",
    "    To build the dictionary you have to use setdefault method which sytax is: dictionary.setdefault(key, value). \n",
    "    This method returns the value of the specified key.\n",
    "    If the key does not exist it inserts the key, with the specified value and return the value.\n",
    "    \n",
    "    dic = {'Day_of_week': 'Monday'}\n",
    "    \n",
    "    dic.setdefault('Day_of_week', 23) ---> 'Monday'\n",
    "    dic.setdefault('Day_of_month', 23) ---> '23'\n",
    "    \n",
    "    As key you have to use k (the first element of the lists from the tuple).\n",
    "    ([B, C], [D, A]) ---> B, D\n",
    "    \n",
    "    A dictionary can't store duplicated keys so you have to use an empty list as value to store the multiple values for every key.\n",
    "    ([B, C], [B, A]) will return B:C and then B:A that overwrites ([B, C], [B, A]) ---> B:C ---> B:A \n",
    "    Using the empty list as value will result in ([B, C], [B, A]) ---> B:[]\n",
    "    \n",
    "    Now we have a dictionary with keys and empty lists as values\n",
    "    ([B, C], [D, A]) ---> B:[], D:[]\n",
    "    \n",
    "    As type(std.out) of setdefault is <class 'list'> you can pipe the .append(v) method to add every new value found for the key.   \n",
    "    '''\n",
    "    dic.setdefault(k,[]).append(v)\n",
    "    \n",
    "print('Tuple to dict (with duplicated values):', dic)"
   ]
  },
  {
   "cell_type": "markdown",
   "id": "f864fa04-fe61-4553-a41a-a22879db002e",
   "metadata": {},
   "source": [
    "___\n",
    "**FROM DICT TO**"
   ]
  },
  {
   "cell_type": "code",
   "execution_count": 89,
   "id": "58882c95-e8d4-43d8-af1c-132966e5e9e5",
   "metadata": {},
   "outputs": [
    {
     "name": "stdout",
     "output_type": "stream",
     "text": [
      "Dict to list: ['Ciudad', 'Población'] \n",
      "\n",
      "Dict to list (keys): ['Ciudad', 'Población'] \n",
      "\n",
      "Dict to list (values): ['Madrid', '3.2M'] \n",
      "\n",
      "Dict to list (items): [('Ciudad', 'Madrid'), ('Población', '3.2M')] \n",
      "\n",
      "\n",
      "Dict to tuple: ('Ciudad', 'Población') \n",
      "\n",
      "Dict to tuple (keys): ('Ciudad', 'Población') \n",
      "\n",
      "Dict to tuple (values): ('Madrid', '3.2M') \n",
      "\n",
      "Dict to tuple (items): (('Ciudad', 'Madrid'), ('Población', '3.2M')) \n",
      "\n",
      "\n",
      "Dict to set: {'Ciudad', 'Población'} \n",
      "\n",
      "Dict to set (keys): {'Ciudad', 'Población'} \n",
      "\n",
      "Dict to set (values): {'Madrid', '3.2M'} \n",
      "\n",
      "Dict to set (items): {('Población', '3.2M'), ('Ciudad', 'Madrid')}\n"
     ]
    }
   ],
   "source": [
    "dict_1 = {'Ciudad' : 'Madrid', 'Población' : '3.2M'}\n",
    "\n",
    "print('Dict to list:', list(dict_1),'\\n')\n",
    "print('Dict to list (keys):', list(dict_1.keys()),'\\n')\n",
    "print('Dict to list (values):', list(dict_1.values()),'\\n')\n",
    "print('Dict to list (items):', list(dict_1.items()),'\\n\\n')\n",
    "\n",
    "print('Dict to tuple:', tuple(dict_1),'\\n')\n",
    "print('Dict to tuple (keys):', tuple(dict_1.keys()),'\\n')\n",
    "print('Dict to tuple (values):', tuple(dict_1.values()),'\\n')\n",
    "print('Dict to tuple (items):', tuple(dict_1.items()),'\\n\\n')\n",
    "\n",
    "print('Dict to set:', set(dict_1),'\\n')          # Set values are NOT ordered so order can change anytime      \n",
    "print('Dict to set (keys):', set(dict_1.keys()),'\\n')\n",
    "print('Dict to set (values):', set(dict_1.values()),'\\n')\n",
    "print('Dict to set (items):', set(dict_1.items()))"
   ]
  },
  {
   "cell_type": "markdown",
   "id": "a4c66bab-a00a-4488-94f9-9b4707ce0086",
   "metadata": {},
   "source": [
    "___\n",
    "**FROM SET TO**"
   ]
  },
  {
   "cell_type": "code",
   "execution_count": 115,
   "id": "fbde7c39-7588-4b05-ab34-c899b1d1bbe1",
   "metadata": {},
   "outputs": [
    {
     "name": "stdout",
     "output_type": "stream",
     "text": [
      "Set to list: ['Ciudad', 'Madrid', 'Población', '3.2M'] \n",
      "\n",
      "Set to tuple: ('Ciudad', 'Madrid', 'Población', '3.2M') \n",
      "\n",
      "ValueError: dictionary update sequence element #0 has length 6; 2 is required\n",
      "\n",
      "TypeError: unhashable type: \"list\"\n",
      "\n",
      "Set to dict (NO duplicated values): {'Población': '3.2M', 'Ciudad': 'Madrid'} \n",
      "\n",
      "Set to dict (with duplicated values): {'Ciudad': ['Córdoba', 'Madrid']} \n",
      "\n"
     ]
    }
   ],
   "source": [
    "set_1 = {'Ciudad', 'Madrid', 'Población', '3.2M'}\n",
    "\n",
    "print('Set to list:', list(set_1),'\\n')\n",
    "\n",
    "print('Set to tuple:', tuple(set_1),'\\n')\n",
    "\n",
    "# This conversion is only possible from tuple of tuples, tuple of lists will rise an exception\n",
    "\n",
    "try:\n",
    "    set_1 = {'Ciudad', 'Madrid', 'Población', '3.2M'}\n",
    "    print(dict(set_1))\n",
    "    \n",
    "except ValueError:\n",
    "    print('ValueError: dictionary update sequence element #0 has length 6; 2 is required\\n')\n",
    "    \n",
    "try:\n",
    "    set_1 = {['Ciudad', 'Madrid'], ['Población', '3.2M']}\n",
    "    print(dict(set_1))\n",
    "    \n",
    "except TypeError:\n",
    "    print('TypeError: unhashable type: \"list\"\\n')\n",
    "\n",
    "set_1 = {('Ciudad', 'Madrid'), ('Población', '3.2M')}\n",
    "\n",
    "print('Set to dict (NO duplicated values):', dict(set_1),'\\n')     # Set values are NOT ordered so order can change anytime  \n",
    "\n",
    "set_1 = {('Ciudad', 'Madrid'), ('Ciudad', 'Córdoba')}\n",
    "\n",
    "# First you have to create an empty dictionary\n",
    "dic = {}\n",
    "\n",
    "# With a for loop you unpack the lists of the set\n",
    "for k,v in set_1:\n",
    "    '''\n",
    "    To build the dictionary you have to use setdefault method which sytax is: dictionary.setdefault(key, value). \n",
    "    This method returns the value of the specified key.\n",
    "    If the key does not exist it inserts the key, with the specified value and return the value.\n",
    "    \n",
    "    dic = {'Day_of_week': 'Monday'}\n",
    "    \n",
    "    dic.setdefault('Day_of_week', 23) ---> 'Monday'\n",
    "    dic.setdefault('Day_of_month', 23) ---> '23'\n",
    "    \n",
    "    As key you have to use k (the first element of the lists from the tuple).\n",
    "    ([B, C], [D, A]) ---> B, D\n",
    "    \n",
    "    A dictionary can't store duplicated keys so you have to use an empty list as value to store the multiple values for every key.\n",
    "    ([B, C], [B, A]) will return B:C and then B:A that overwrites ([B, C], [B, A]) ---> B:C ---> B:A \n",
    "    Using the empty list as value will result in ([B, C], [B, A]) ---> B:[]\n",
    "    \n",
    "    Now we have a dictionary with keys and empty lists as values\n",
    "    ([B, C], [D, A]) ---> B:[], D:[]\n",
    "    \n",
    "    As type(std.out) of setdefault is <class 'list'> you can pipe the .append(v) method to add every new value found for the key.   \n",
    "    '''\n",
    "    dic.setdefault(k,[]).append(v)\n",
    "\n",
    "print('Set to dict (with duplicated values):', dic,'\\n')           # Set values are NOT ordered so order can change anytime"
   ]
  }
 ],
 "metadata": {
  "kernelspec": {
   "display_name": "Python 3 (ipykernel)",
   "language": "python",
   "name": "python3"
  },
  "language_info": {
   "codemirror_mode": {
    "name": "ipython",
    "version": 3
   },
   "file_extension": ".py",
   "mimetype": "text/x-python",
   "name": "python",
   "nbconvert_exporter": "python",
   "pygments_lexer": "ipython3",
   "version": "3.8.12"
  }
 },
 "nbformat": 4,
 "nbformat_minor": 5
}
