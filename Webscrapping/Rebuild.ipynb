{
 "cells": [
  {
   "cell_type": "code",
   "execution_count": 1,
   "id": "6bf21adc-5cf1-4831-b136-160e8d01c5fc",
   "metadata": {},
   "outputs": [],
   "source": [
    "#python -m pip install requests\n",
    "#python -m pip install beautifulsoup4"
   ]
  },
  {
   "cell_type": "code",
   "execution_count": 2,
   "id": "d8c009b1-1360-4551-9153-4e63800296dd",
   "metadata": {},
   "outputs": [],
   "source": [
    "# IMPORTS\n",
    "\n",
    "import requests\n",
    "from bs4 import BeautifulSoup"
   ]
  },
  {
   "cell_type": "code",
   "execution_count": 3,
   "id": "2e73a3d6-7f92-46bb-9a9a-e4cc7d3555a5",
   "metadata": {},
   "outputs": [],
   "source": [
    "# FUNCTIONS\n",
    "\n",
    "def generate_web(i):\n",
    "    '''\n",
    "    This method generates all the url that will be scrapped.\n",
    "    Base URL is https://rebuild.ticketsnebext.com/rebuild2021/es/Company/Details/\n",
    "    which is completed with a number of seven digits XXX-XXX-X for each enterprise. \n",
    "    '''\n",
    "    url = 'https://rebuild.ticketsnebext.com/rebuild2021/es/Company/Details/'+str(i).zfill(7)\n",
    "    \n",
    "    return url\n",
    "\n",
    "def retrieve_web(url):\n",
    "    '''\n",
    "    This method returns the HTML content of a given url parsed\n",
    "    '''\n",
    "    web_content = requests.get(url) #content can be checked with print(web_content.text)\n",
    "    soup = BeautifulSoup(web_content.content, 'html.parser') #soup is a convention\n",
    "    return soup\n",
    "    \n",
    "def filter_results(soup):\n",
    "\n",
    "    '''\n",
    "    This method scans the content looking for the tags h1, strong and span wich I found that\n",
    "    contain the info I need using web inspector. Then, if the url checked is \"empty\"\n",
    "    (this is checked using the h1 scan wich in empty pages shows\n",
    "    \"Oops, algo no funcionó como esperábamos. Disculpa las molestias.\")\n",
    "    the script continues to the next url and if it founds content prints the elements.\n",
    "    '''\n",
    "    \n",
    "    title = soup.find_all('h1')\n",
    "    data_list_1 = soup.find_all('strong')\n",
    "    data_list_2 = soup.find_all('span')\n",
    "    \n",
    "    if 'Oops' in str(title):\n",
    "        pass\n",
    "    else:\n",
    "        print(str(title)[28:-6], '\\n')\n",
    "        for i in range(8):\n",
    "            print(data_list_1[i].text + data_list_2[i+1].text)\n",
    "        print('\\n')\n",
    "\n",
    "    "
   ]
  },
  {
   "cell_type": "code",
   "execution_count": 4,
   "id": "455e8af9-537f-43eb-bc0b-8fcb2c11e4bb",
   "metadata": {},
   "outputs": [
    {
     "name": "stdout",
     "output_type": "stream",
     "text": [
      "AEDAS HOMES \n",
      "\n",
      "Dirección: Paseo de la Castellana, 42\n",
      "Localidad: madrid\n",
      "CP: 28046\n",
      "Provincia: madrid\n",
      "Comunidad Autónoma: COMUNIDAD DE MADRID\n",
      "País: España\n",
      "Teléfono: +34 917 880 000\n",
      "Web: http://www.aedashomes.com\n",
      "\n",
      "\n",
      "RODACAL BEYEM – SEGURA SARRIA \n",
      "\n",
      "Dirección: Crtra. Madrid-Alicante KM 213\n",
      "Localidad: roda, la\n",
      "CP: 02630\n",
      "Provincia: albacete\n",
      "Comunidad Autónoma: CASTILLA-LA MANCHA\n",
      "País: España\n",
      "Teléfono: +34 967 440 018\n",
      "Web: www.rodacal.com\n",
      "\n",
      "\n",
      "WES WOOD ENGINEERING SYSTEMS \n",
      "\n",
      "Dirección: Av. de los Pinos 4, 1-1\n",
      "Localidad: monforte del cid\n",
      "CP: 03670\n",
      "Provincia: alicante/alacant\n",
      "Comunidad Autónoma: COMUNIDAD VALENCIANA\n",
      "País: España\n",
      "Teléfono: +34 965 620 793\n",
      "Web: www.casasprefabricadaswes.es\n",
      "\n",
      "\n"
     ]
    }
   ],
   "source": [
    "# EXECUTION\n",
    "\n",
    "'''\n",
    "At this point, we use a for loop within a range of enterprise codes as big as our computer power can handle\n",
    "'''\n",
    "\n",
    "for i in range(2132040,2132200): #TODO, range by arguments\n",
    "    try:\n",
    "        filter_results(retrieve_web(generate_web(i)))\n",
    "    except:\n",
    "        continue"
   ]
  },
  {
   "cell_type": "code",
   "execution_count": null,
   "id": "c1e98c78-ff08-4e90-b077-b57757237f5d",
   "metadata": {},
   "outputs": [],
   "source": []
  }
 ],
 "metadata": {
  "kernelspec": {
   "display_name": "Python 3",
   "language": "python",
   "name": "python3"
  },
  "language_info": {
   "codemirror_mode": {
    "name": "ipython",
    "version": 3
   },
   "file_extension": ".py",
   "mimetype": "text/x-python",
   "name": "python",
   "nbconvert_exporter": "python",
   "pygments_lexer": "ipython3",
   "version": "3.8.8"
  }
 },
 "nbformat": 4,
 "nbformat_minor": 5
}
